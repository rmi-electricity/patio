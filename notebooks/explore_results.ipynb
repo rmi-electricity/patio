{
 "cells": [
  {
   "cell_type": "markdown",
   "id": "0",
   "metadata": {},
   "source": [
    "# Imports"
   ]
  },
  {
   "cell_type": "code",
   "execution_count": null,
   "id": "1",
   "metadata": {},
   "outputs": [],
   "source": [
    "%load_ext autoreload\n",
    "%autoreload 2\n",
    "\n",
    "import io\n",
    "import json\n",
    "import tomllib\n",
    "from datetime import datetime\n",
    "from pathlib import Path\n",
    "\n",
    "import numpy as np\n",
    "import pandas as pd\n",
    "import plotly.express as px\n",
    "import plotly.graph_objects as go\n",
    "import polars as pl\n",
    "import polars.selectors as cs\n",
    "from dispatch.constants import COLOR_MAP, PLOT_MAP\n",
    "from etoolbox.datazip import DataZip\n",
    "from etoolbox.utils.cloud import get, rmi_cloud_fs\n",
    "from etoolbox.utils.pudl import (\n",
    "    generator_ownership,\n",
    "    pd_read_pudl,\n",
    "    pl_read_pudl,\n",
    "    pl_scan_pudl,\n",
    ")\n",
    "from pypdf import PdfReader, PdfWriter\n",
    "\n",
    "# from gencost.entity_ids import add_ba_code\n",
    "from tqdm.autonotebook import tqdm\n",
    "\n",
    "from patio.constants import (\n",
    "    PATIO_PUDL_RELEASE,\n",
    "    REGION_MAP,\n",
    "    SIMPLE_TD_MAP,\n",
    "    TECH_CODES,\n",
    ")\n",
    "from patio.data.asset_data import AssetData, clean_atb\n",
    "from patio.helpers import pl_distance\n",
    "\n",
    "# from patio.model.colo_core import econ_and_flows, redispatch\n",
    "from patio.model.ba_scenario import plot_year_hourly\n",
    "from patio.model.colo_common import *\n",
    "from patio.model.colo_lp import Info, package_econ_data"
   ]
  },
  {
   "cell_type": "code",
   "execution_count": null,
   "id": "2",
   "metadata": {},
   "outputs": [],
   "source": [
    "fs = rmi_cloud_fs()\n",
    "\n",
    "pd.set_option(\"display.max_columns\", None)\n",
    "ad = AssetData()"
   ]
  },
  {
   "cell_type": "markdown",
   "id": "3",
   "metadata": {},
   "source": [
    "# Load Results"
   ]
  },
  {
   "cell_type": "markdown",
   "id": "4",
   "metadata": {},
   "source": [
    "## Logs"
   ]
  }
 ],
 "metadata": {
  "kernelspec": {
   "display_name": "Python 3",
   "language": "python",
   "name": "python3"
  },
  "language_info": {
   "codemirror_mode": {
    "name": "ipython",
    "version": 2
   },
   "file_extension": ".py",
   "mimetype": "text/x-python",
   "name": "python",
   "nbconvert_exporter": "python",
   "pygments_lexer": "ipython2",
   "version": "2.7.6"
  }
 },
 "nbformat": 4,
 "nbformat_minor": 5
}
