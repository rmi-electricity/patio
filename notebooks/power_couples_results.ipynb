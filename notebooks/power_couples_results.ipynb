{
 "cells": [
  {
   "cell_type": "markdown",
   "id": "0",
   "metadata": {},
   "source": [
    "# Imports"
   ]
  },
  {
   "cell_type": "code",
   "execution_count": null,
   "id": "1",
   "metadata": {},
   "outputs": [],
   "source": [
    "%load_ext autoreload\n",
    "%autoreload 2\n",
    "import pandas as pd\n",
    "import plotly.express as px\n",
    "import polars as pl\n",
    "import polars.selectors as cs\n",
    "from plotly.subplots import make_subplots\n",
    "\n",
    "import patio.model.colo_core as colo_core"
   ]
  },
  {
   "cell_type": "code",
   "execution_count": null,
   "id": "2",
   "metadata": {},
   "outputs": [],
   "source": [
    "%reload_ext autoreload"
   ]
  },
  {
   "cell_type": "markdown",
   "id": "3",
   "metadata": {},
   "source": [
    "# Results"
   ]
  },
  {
   "cell_type": "markdown",
   "id": "4",
   "metadata": {},
   "source": [
    "## Setup"
   ]
  },
  {
   "cell_type": "code",
   "execution_count": null,
   "id": "5",
   "metadata": {},
   "outputs": [],
   "source": [
    "write_figs = False\n",
    "run = \"202507130115\""
   ]
  },
  {
   "cell_type": "code",
   "execution_count": null,
   "id": "6",
   "metadata": {},
   "outputs": [],
   "source": [
    "results = colo_core.Results(\n",
    "    \"202505261158\",\n",
    "    \"202507031241\",\n",
    "    \"202507070053\",\n",
    "    \"202507130115\",\n",
    "    max_ppa=200,\n",
    "    max_attr_rev_export_clean=100,\n",
    "    max_violation=0.3,\n",
    "    font=\"Roboto\",\n",
    ")\n",
    "results.summary_stats()"
   ]
  },
  {
   "cell_type": "code",
   "execution_count": null,
   "id": "7",
   "metadata": {},
   "outputs": [],
   "source": [
    "results.update_params(max_violation=0.5, max_ppa=300)\n",
    "results.summary_stats()"
   ]
  },
  {
   "cell_type": "markdown",
   "id": "8",
   "metadata": {},
   "source": [
    "## Tables"
   ]
  },
  {
   "cell_type": "code",
   "execution_count": null,
   "id": "9",
   "metadata": {},
   "outputs": [],
   "source": [
    "results.for_xl(clip=True)"
   ]
  },
  {
   "cell_type": "code",
   "execution_count": null,
   "id": "10",
   "metadata": {},
   "outputs": [],
   "source": [
    "results.for_dataroom(clip=True)"
   ]
  },
  {
   "cell_type": "markdown",
   "id": "11",
   "metadata": {},
   "source": [
    "## Supply curve"
   ]
  },
  {
   "cell_type": "code",
   "execution_count": null,
   "id": "12",
   "metadata": {},
   "outputs": [],
   "source": [
    "sup_curve = results.fig_supply_curve(\"all\", land_screen=False)\n",
    "if write_figs:\n",
    "    sup_curve.write_image(\n",
    "        results.fig_path / f\"{run}_supply_curve.pdf\",\n",
    "        height=580 * 0.8,\n",
    "        width=1300 * 0.8,\n",
    "    )\n",
    "sup_curve.show()"
   ]
  },
  {
   "cell_type": "markdown",
   "id": "13",
   "metadata": {},
   "source": [
    "## Opportunity map"
   ]
  },
  {
   "cell_type": "code",
   "execution_count": null,
   "id": "14",
   "metadata": {},
   "outputs": [],
   "source": [
    "op_map = results.fig_scatter_geo(\"all\", sixe_max=15, land_screen=False)\n",
    "if write_figs:\n",
    "    op_map.write_image(results.fig_path / f\"{run}_best_map.pdf\", width=1600, height=1200)\n",
    "op_map.show()"
   ]
  },
  {
   "cell_type": "markdown",
   "id": "15",
   "metadata": {},
   "source": [
    "## Selection map"
   ]
  },
  {
   "cell_type": "code",
   "execution_count": null,
   "id": "16",
   "metadata": {},
   "outputs": [],
   "source": [
    "sel_map_fig = results.fig_selection_map(run, land_screen=False)\n",
    "if write_figs:\n",
    "    sel_map_fig.write_image(results.fig_path / f\"{run}_sel_map.pdf\", width=1600, height=1200)\n",
    "sel_map_fig.show()"
   ]
  },
  {
   "cell_type": "markdown",
   "id": "17",
   "metadata": {},
   "source": [
    "## Case sheets"
   ]
  },
  {
   "cell_type": "code",
   "execution_count": null,
   "id": "18",
   "metadata": {},
   "outputs": [],
   "source": [
    "if write_figs:\n",
    "    results.case_sheets(run, land_screen=False)\n",
    "else:\n",
    "    results.fig_case_subplots(run, land_screen=False)"
   ]
  },
  {
   "cell_type": "markdown",
   "id": "19",
   "metadata": {},
   "source": [
    "## Package as csvs"
   ]
  },
  {
   "cell_type": "code",
   "execution_count": null,
   "id": "20",
   "metadata": {},
   "outputs": [],
   "source": [
    "results.compare(\n",
    "    \"colo_202505261158\",\n",
    "    \"colo_202507130115\",\n",
    "    values=(\n",
    "        \"run_status\",\n",
    "        \"load_mw\",\n",
    "        \"served_pct\",\n",
    "        \"pct_load_clean\",\n",
    "        \"ppa_ex_fossil_export_profit\",\n",
    "        \"attr_rev_export_clean\",\n",
    "        \"max_rolling_violation_pct\",\n",
    "        \"good\",\n",
    "    ),\n",
    ").filter(\n",
    "    pl.col(\"tech\").is_in((\"ngcc\", \"nggt\"))\n",
    "    & pl.col(\"state\").is_in((\"NM\", \"CO\", \"AZ\", \"UT\", \"ID\"))\n",
    "    & (pl.col(\"run_status\") == \"SUCCESS\")\n",
    ").sort(\n",
    "    \"balancing_authority_code_eia\",\n",
    "    \"state\",\n",
    "    \"icx_id\",\n",
    "    \"name\",\n",
    "    \"regime\",\n",
    ").write_clipboard()"
   ]
  },
  {
   "cell_type": "markdown",
   "id": "21",
   "metadata": {},
   "source": [
    "## Exploring indicator distributions"
   ]
  },
  {
   "cell_type": "code",
   "execution_count": null,
   "id": "22",
   "metadata": {},
   "outputs": [],
   "source": [
    "px.histogram(\n",
    "    results.all_summaries().filter(\n",
    "        (pl.col(\"new_fossil_mw\") > 0) & (pl.col(\"run_status\") == \"SUCCESS\")\n",
    "    ),\n",
    "    x=\"max_rolling_violation_pct\",\n",
    "    log_y=True,\n",
    "    nbins=100,\n",
    "    facet_col=\"name\",\n",
    "    facet_row=\"run\",\n",
    ")"
   ]
  },
  {
   "cell_type": "code",
   "execution_count": null,
   "id": "23",
   "metadata": {},
   "outputs": [],
   "source": [
    "px.histogram(\n",
    "    results.summaries[run].filter(\n",
    "        (pl.col(\"new_fossil_mw\") > 0) & (pl.col(\"run_status\") == \"SUCCESS\")\n",
    "    ),\n",
    "    x=\"max_rolling_violation_pct\",\n",
    "    log_y=True,\n",
    "    nbins=100,\n",
    "    facet_col=\"name\",\n",
    ")"
   ]
  },
  {
   "cell_type": "markdown",
   "id": "24",
   "metadata": {},
   "source": [
    "## Logs"
   ]
  }
 ],
 "metadata": {
  "kernelspec": {
   "display_name": "Python 3",
   "language": "python",
   "name": "python3"
  },
  "language_info": {
   "codemirror_mode": {
    "name": "ipython",
    "version": 2
   },
   "file_extension": ".py",
   "mimetype": "text/x-python",
   "name": "python",
   "nbconvert_exporter": "python",
   "pygments_lexer": "ipython2",
   "version": "2.7.6"
  }
 },
 "nbformat": 4,
 "nbformat_minor": 5
}
