{
 "cells": [
  {
   "cell_type": "markdown",
   "id": "0",
   "metadata": {},
   "source": [
    "# Imports"
   ]
  },
  {
   "cell_type": "code",
   "execution_count": null,
   "id": "1",
   "metadata": {},
   "outputs": [],
   "source": [
    "%load_ext autoreload\n",
    "%autoreload 2\n",
    "import pandas as pd\n",
    "import plotly.express as px\n",
    "import polars as pl\n",
    "import polars.selectors as cs\n",
    "from plotly.subplots import make_subplots\n",
    "\n",
    "import patio.model.colo_results as cr\n",
    "from patio.model.colo_common import FANCY_COLS, order_columns, pl_str_contains"
   ]
  },
  {
   "cell_type": "code",
   "execution_count": null,
   "id": "2",
   "metadata": {},
   "outputs": [],
   "source": [
    "%reload_ext autoreload"
   ]
  },
  {
   "cell_type": "markdown",
   "id": "3",
   "metadata": {},
   "source": [
    "# Results"
   ]
  },
  {
   "cell_type": "markdown",
   "id": "4",
   "metadata": {},
   "source": [
    "## Setup"
   ]
  },
  {
   "cell_type": "code",
   "execution_count": null,
   "id": "5",
   "metadata": {},
   "outputs": [],
   "source": [
    "write_figs = False\n",
    "run = \"202507170146\""
   ]
  },
  {
   "cell_type": "code",
   "execution_count": null,
   "id": "6",
   "metadata": {},
   "outputs": [],
   "source": [
    "results = cr.Results(\n",
    "    \"202505261158\",\n",
    "    \"202507031241\",\n",
    "    \"202507070053\",\n",
    "    \"202507130115\",\n",
    "    \"202507170146\",\n",
    "    max_ppa=200,\n",
    "    max_attr_rev_export_clean=100,\n",
    "    max_violation=0.3,\n",
    "    font=\"Roboto\",\n",
    ")\n",
    "results.summary_stats()"
   ]
  },
  {
   "cell_type": "code",
   "execution_count": null,
   "id": "7",
   "metadata": {},
   "outputs": [],
   "source": [
    "# results.update_params(max_violation=0.5, max_ppa=200)\n",
    "results[\"202507170146\"].filter(pl.col(\"good\")).group_by(\"name\", \"regime\").agg(\n",
    "    pl.col(\"load_mw\").sum()\n",
    ")"
   ]
  },
  {
   "cell_type": "markdown",
   "id": "8",
   "metadata": {},
   "source": [
    "## Tables"
   ]
  },
  {
   "cell_type": "code",
   "execution_count": null,
   "id": "9",
   "metadata": {},
   "outputs": [],
   "source": [
    "results.for_xl(\"all\", clip=False).pipe(order_columns).write_clipboard()"
   ]
  },
  {
   "cell_type": "code",
   "execution_count": null,
   "id": "10",
   "metadata": {},
   "outputs": [],
   "source": [
    "results.for_dataroom(clip=True)"
   ]
  },
  {
   "cell_type": "code",
   "execution_count": null,
   "id": "11",
   "metadata": {},
   "outputs": [],
   "source": [
    "sorted(results.all_summaries()[\"run\"].unique())"
   ]
  },
  {
   "cell_type": "markdown",
   "id": "12",
   "metadata": {},
   "source": [
    "## Supply curve"
   ]
  },
  {
   "cell_type": "code",
   "execution_count": null,
   "id": "13",
   "metadata": {},
   "outputs": [],
   "source": [
    "sup_curve = results.fig_supply_curve(\"all\", land_screen=False)\n",
    "if write_figs:\n",
    "    sup_curve.write_image(\n",
    "        results.fig_path / f\"{run}_supply_curve.pdf\",\n",
    "        height=580 * 0.8,\n",
    "        width=1300 * 0.8,\n",
    "    )\n",
    "sup_curve.show()"
   ]
  },
  {
   "cell_type": "markdown",
   "id": "14",
   "metadata": {},
   "source": [
    "## Opportunity map"
   ]
  },
  {
   "cell_type": "code",
   "execution_count": null,
   "id": "15",
   "metadata": {},
   "outputs": [],
   "source": [
    "op_map = results.fig_scatter_geo(\"all\", sixe_max=15, land_screen=False).update_layout(\n",
    "    height=1100\n",
    ")\n",
    "if write_figs:\n",
    "    op_map.write_image(results.fig_path / f\"{run}_best_map.pdf\", width=1600, height=1200)\n",
    "op_map.show()"
   ]
  },
  {
   "cell_type": "markdown",
   "id": "16",
   "metadata": {},
   "source": [
    "## Selection map"
   ]
  },
  {
   "cell_type": "code",
   "execution_count": null,
   "id": "17",
   "metadata": {},
   "outputs": [],
   "source": [
    "sel_map_fig = results.fig_selection_map(run, land_screen=False)\n",
    "if write_figs:\n",
    "    sel_map_fig.write_image(results.fig_path / f\"{run}_sel_map.pdf\", width=1600, height=1200)\n",
    "sel_map_fig.show()"
   ]
  },
  {
   "cell_type": "markdown",
   "id": "18",
   "metadata": {},
   "source": [
    "## Case sheets"
   ]
  },
  {
   "cell_type": "code",
   "execution_count": null,
   "id": "19",
   "metadata": {},
   "outputs": [],
   "source": [
    "if write_figs:\n",
    "    results.case_sheets(run, land_screen=False)\n",
    "else:\n",
    "    results.fig_case_subplots(run, land_screen=False)"
   ]
  },
  {
   "cell_type": "markdown",
   "id": "20",
   "metadata": {},
   "source": [
    "## Package as csvs"
   ]
  },
  {
   "cell_type": "code",
   "execution_count": null,
   "id": "21",
   "metadata": {},
   "outputs": [],
   "source": [
    "results.compare(\n",
    "    \"colo_202505261158\",\n",
    "    \"colo_202507170146\",\n",
    "    values=(\n",
    "        \"run_status\",\n",
    "        \"load_mw\",\n",
    "        \"served_pct\",\n",
    "        \"pct_load_clean\",\n",
    "        \"ppa_ex_fossil_export_profit\",\n",
    "        \"attr_rev_export_clean\",\n",
    "        \"max_rolling_violation_pct\",\n",
    "        \"good\",\n",
    "    ),\n",
    ").filter(\n",
    "    pl.col(\"tech\").is_in((\"ngcc\", \"nggt\"))\n",
    "    & pl.col(\"state\").is_in((\"NM\", \"CO\", \"AZ\", \"UT\", \"ID\"))\n",
    "    & (pl.col(\"run_status\") == \"SUCCESS\")\n",
    ").sort(\n",
    "    \"balancing_authority_code_eia\",\n",
    "    \"state\",\n",
    "    \"icx_id\",\n",
    "    \"name\",\n",
    "    \"regime\",\n",
    ").write_clipboard()"
   ]
  },
  {
   "cell_type": "markdown",
   "id": "22",
   "metadata": {},
   "source": [
    "## Exploring indicator distributions"
   ]
  },
  {
   "cell_type": "code",
   "execution_count": null,
   "id": "23",
   "metadata": {},
   "outputs": [],
   "source": [
    "px.histogram(\n",
    "    results.all_summaries().filter(\n",
    "        (pl.col(\"new_fossil_mw\") > 0) & (pl.col(\"run_status\") == \"SUCCESS\")\n",
    "    ),\n",
    "    x=\"max_rolling_violation_pct\",\n",
    "    log_y=True,\n",
    "    nbins=100,\n",
    "    facet_col=\"name\",\n",
    "    facet_row=\"run\",\n",
    ")"
   ]
  },
  {
   "cell_type": "code",
   "execution_count": null,
   "id": "24",
   "metadata": {},
   "outputs": [],
   "source": [
    "px.histogram(\n",
    "    results.summaries[run].filter(\n",
    "        (pl.col(\"new_fossil_mw\") > 0) & (pl.col(\"run_status\") == \"SUCCESS\")\n",
    "    ),\n",
    "    x=\"max_rolling_violation_pct\",\n",
    "    log_y=True,\n",
    "    nbins=100,\n",
    "    facet_col=\"name\",\n",
    ")"
   ]
  },
  {
   "cell_type": "code",
   "execution_count": null,
   "id": "25",
   "metadata": {},
   "outputs": [],
   "source": [
    "pl.from_pandas(results.ad.gens).filter(pl.col(\"category\") == \"proposed_clean\").with_columns(\n",
    "    pl.col(\"operating_date\").dt.year()\n",
    ").pivot(\n",
    "    on=\"technology_description\",\n",
    "    index=\"operating_date\",\n",
    "    values=\"capacity_mw\",\n",
    "    aggregate_function=\"sum\",\n",
    ").sort(\"operating_date\")"
   ]
  },
  {
   "cell_type": "code",
   "execution_count": null,
   "id": "26",
   "metadata": {},
   "outputs": [],
   "source": [
    "self = results\n",
    "cols = self.id_cols\n",
    "a = \"202505261158\"\n",
    "b = \"202507170146\"\n",
    "cols = (\"ba_code\", \"icx_id\", \"icx_gen\", \"tech\")\n",
    "metric = (\"attr_rev_export_clean\", \"ppa_ex_fossil_export_profit\")"
   ]
  },
  {
   "cell_type": "code",
   "execution_count": null,
   "id": "27",
   "metadata": {},
   "outputs": [],
   "source": [
    "# data = self.all_summaries().filter(pl.col(\"run\").is_in((a, b))).pivot(on='run', index=self.id_cols, values=metric).filter(pl.col(a).is_not_null() | pl.col(b).is_not_null()).with_columns(pl.col(a, b).fill_null(0.0))\n",
    "data = (\n",
    "    self.all_summaries()\n",
    "    .filter(pl.col(\"run\").is_in((a, b)) & pl.col(\"best_at_site\"))\n",
    "    .unpivot(on=metric, index=(\"run\", *cols))\n",
    "    .pivot(on=\"run\", index=(*cols, \"variable\"), values=\"value\")\n",
    "    .filter(pl.col(a).is_not_null() | pl.col(b).is_not_null())\n",
    "    .with_columns(pl.col(a, b).fill_null(0.0))\n",
    ")\n",
    "# dmax = data.select(pl.max_horizontal(pl.max(a), pl.max(b)))\n",
    "# dmin = data.select(pl.min_horizontal(pl.min(a), pl.min(b)))\n",
    "fig = (\n",
    "    (\n",
    "        px.scatter(\n",
    "            data,\n",
    "            x=a,\n",
    "            y=b,\n",
    "            template=\"ggplot2\",\n",
    "            facet_col=\"variable\",\n",
    "        )\n",
    "        # .update_xaxes(range=[dmin, dmax]).update_yaxes(range=[dmin, dmax])\n",
    "        .update_xaxes(constrain=\"domain\", matches=None)\n",
    "        .update_yaxes(matches=None, showticklabels=True)\n",
    "    )\n",
    "    .for_each_yaxis(lambda x: x.update(scaleanchor=x.anchor))\n",
    "    # .for_each_yaxis(lambda x: print(x))\n",
    "    # .for_each_xaxis(lambda x: print(x))\n",
    "    .for_each_annotation(lambda a: a.update(text=a.text.split(\"=\")[-1]))\n",
    ")\n",
    "list(fig.layout)"
   ]
  },
  {
   "cell_type": "markdown",
   "id": "28",
   "metadata": {},
   "source": [
    "## Logs"
   ]
  },
  {
   "cell_type": "markdown",
   "id": "29",
   "metadata": {},
   "source": [
    "## Util screening"
   ]
  },
  {
   "cell_type": "code",
   "execution_count": null,
   "id": "30",
   "metadata": {},
   "outputs": [],
   "source": [
    "aligned = results.get_aligned(\"202507170146\")"
   ]
  },
  {
   "cell_type": "code",
   "execution_count": null,
   "id": "31",
   "metadata": {},
   "outputs": [],
   "source": [
    "aligned.filter(\n",
    "    pl_str_contains(\n",
    "        \"utility_name_eia_lse\",\n",
    "        \"Ameren\",\n",
    "        \"Evergy\",\n",
    "        \"Georgia Power Co\",\n",
    "        \"Alabama Power Co\",\n",
    "        \"Mississippi Power Co\",\n",
    "        \"Arizona Public Service\",\n",
    "        \"Duke Energy Progress\",\n",
    "        \"Duke Energy Carolinas, LLC\",\n",
    "        \"Interstate Power and Light Co\",\n",
    "        \"Wisconsin Power & Light Co\",\n",
    "    )\n",
    ")[\"parent_name\"]"
   ]
  },
  {
   "cell_type": "code",
   "execution_count": null,
   "id": "32",
   "metadata": {},
   "outputs": [],
   "source": [
    "pl.read_parquet(\"/Users/alex/patio_data/colo_202507180034/colo_summary.parquet\")[\"latitude\"]"
   ]
  }
 ],
 "metadata": {
  "kernelspec": {
   "display_name": "Python 3",
   "language": "python",
   "name": "python3"
  },
  "language_info": {
   "codemirror_mode": {
    "name": "ipython",
    "version": 2
   },
   "file_extension": ".py",
   "mimetype": "text/x-python",
   "name": "python",
   "nbconvert_exporter": "python",
   "pygments_lexer": "ipython2",
   "version": "2.7.6"
  }
 },
 "nbformat": 4,
 "nbformat_minor": 5
}
